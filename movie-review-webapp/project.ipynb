{
 "cells": [
  {
   "cell_type": "code",
   "execution_count": null,
   "metadata": {},
   "outputs": [],
   "source": [
    "# Download data\n",
    "\n",
    "import os\n",
    "import tarfile\n",
    "from six.moves import urllib\n",
    "\n",
    "DATA_DOWNLOAD_URL = \"http://ai.stanford.edu/~amaas/data/sentiment/aclImdb_v1.tar.gz\"\n",
    "DATA_PATH = os.path.join(\"dataset\")\n",
    "\n",
    "def fetch__data(data_download_url = DATA_DOWNLOAD_URL, data_path = DATA_PATH):\n",
    "    if not os.path.isdir(data_path):\n",
    "        os.makedirs(data_path)\n",
    "    tgz_path = os.path.join(data_path, \"aclImdb_v1.tar.gz\")\n",
    "    urllib.request.urlretrieve(data_download_url, tgz_path)\n",
    "    reviews_tgz = tarfile.open(tgz_path)\n",
    "    reviews_tgz.extractall(path=data_path)\n",
    "    reviews_tgz.close()\n",
    "\n",
    "fetch__data()"
   ]
  },
  {
   "cell_type": "code",
   "execution_count": null,
   "metadata": {},
   "outputs": [],
   "source": []
  }
 ],
 "metadata": {
  "kernelspec": {
   "display_name": "Python 3",
   "language": "python",
   "name": "python3"
  }
 },
 "nbformat": 4,
 "nbformat_minor": 2
}
